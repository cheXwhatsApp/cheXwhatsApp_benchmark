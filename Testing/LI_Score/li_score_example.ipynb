{
 "cells": [
  {
   "cell_type": "code",
   "execution_count": 1,
   "metadata": {},
   "outputs": [
    {
     "name": "stdout",
     "output_type": "stream",
     "text": [
      "Requirement already satisfied: ultralytics in /home/dhaval/anaconda3/lib/python3.11/site-packages (8.2.38)\n",
      "Requirement already satisfied: numpy<2.0.0 in /home/dhaval/anaconda3/lib/python3.11/site-packages (from ultralytics) (1.26.4)\n",
      "Requirement already satisfied: matplotlib>=3.3.0 in /home/dhaval/anaconda3/lib/python3.11/site-packages (from ultralytics) (3.8.0)\n",
      "Requirement already satisfied: opencv-python>=4.6.0 in /home/dhaval/anaconda3/lib/python3.11/site-packages (from ultralytics) (4.9.0.80)\n",
      "Requirement already satisfied: pillow>=7.1.2 in /home/dhaval/anaconda3/lib/python3.11/site-packages (from ultralytics) (10.2.0)\n",
      "Requirement already satisfied: pyyaml>=5.3.1 in /home/dhaval/anaconda3/lib/python3.11/site-packages (from ultralytics) (6.0.1)\n",
      "Requirement already satisfied: requests>=2.23.0 in /home/dhaval/anaconda3/lib/python3.11/site-packages (from ultralytics) (2.31.0)\n",
      "Requirement already satisfied: scipy>=1.4.1 in /home/dhaval/anaconda3/lib/python3.11/site-packages (from ultralytics) (1.11.4)\n",
      "Requirement already satisfied: torch>=1.8.0 in /home/dhaval/anaconda3/lib/python3.11/site-packages (from ultralytics) (2.2.2)\n",
      "Requirement already satisfied: torchvision>=0.9.0 in /home/dhaval/anaconda3/lib/python3.11/site-packages (from ultralytics) (0.17.2)\n",
      "Requirement already satisfied: tqdm>=4.64.0 in /home/dhaval/anaconda3/lib/python3.11/site-packages (from ultralytics) (4.65.0)\n",
      "Requirement already satisfied: psutil in /home/dhaval/anaconda3/lib/python3.11/site-packages (from ultralytics) (5.9.0)\n",
      "Requirement already satisfied: py-cpuinfo in /home/dhaval/anaconda3/lib/python3.11/site-packages (from ultralytics) (9.0.0)\n",
      "Requirement already satisfied: pandas>=1.1.4 in /home/dhaval/anaconda3/lib/python3.11/site-packages (from ultralytics) (2.1.4)\n",
      "Requirement already satisfied: seaborn>=0.11.0 in /home/dhaval/anaconda3/lib/python3.11/site-packages (from ultralytics) (0.12.2)\n",
      "Requirement already satisfied: ultralytics-thop>=2.0.0 in /home/dhaval/anaconda3/lib/python3.11/site-packages (from ultralytics) (2.0.0)\n",
      "Requirement already satisfied: contourpy>=1.0.1 in /home/dhaval/anaconda3/lib/python3.11/site-packages (from matplotlib>=3.3.0->ultralytics) (1.2.0)\n",
      "Requirement already satisfied: cycler>=0.10 in /home/dhaval/anaconda3/lib/python3.11/site-packages (from matplotlib>=3.3.0->ultralytics) (0.11.0)\n",
      "Requirement already satisfied: fonttools>=4.22.0 in /home/dhaval/anaconda3/lib/python3.11/site-packages (from matplotlib>=3.3.0->ultralytics) (4.25.0)\n",
      "Requirement already satisfied: kiwisolver>=1.0.1 in /home/dhaval/anaconda3/lib/python3.11/site-packages (from matplotlib>=3.3.0->ultralytics) (1.4.4)\n",
      "Requirement already satisfied: packaging>=20.0 in /home/dhaval/anaconda3/lib/python3.11/site-packages (from matplotlib>=3.3.0->ultralytics) (23.1)\n",
      "Requirement already satisfied: pyparsing>=2.3.1 in /home/dhaval/anaconda3/lib/python3.11/site-packages (from matplotlib>=3.3.0->ultralytics) (3.0.9)\n",
      "Requirement already satisfied: python-dateutil>=2.7 in /home/dhaval/anaconda3/lib/python3.11/site-packages (from matplotlib>=3.3.0->ultralytics) (2.8.2)\n",
      "Requirement already satisfied: pytz>=2020.1 in /home/dhaval/anaconda3/lib/python3.11/site-packages (from pandas>=1.1.4->ultralytics) (2023.3.post1)\n",
      "Requirement already satisfied: tzdata>=2022.1 in /home/dhaval/anaconda3/lib/python3.11/site-packages (from pandas>=1.1.4->ultralytics) (2023.3)\n",
      "Requirement already satisfied: charset-normalizer<4,>=2 in /home/dhaval/anaconda3/lib/python3.11/site-packages (from requests>=2.23.0->ultralytics) (2.0.4)\n",
      "Requirement already satisfied: idna<4,>=2.5 in /home/dhaval/anaconda3/lib/python3.11/site-packages (from requests>=2.23.0->ultralytics) (3.4)\n",
      "Requirement already satisfied: urllib3<3,>=1.21.1 in /home/dhaval/anaconda3/lib/python3.11/site-packages (from requests>=2.23.0->ultralytics) (2.0.7)\n",
      "Requirement already satisfied: certifi>=2017.4.17 in /home/dhaval/anaconda3/lib/python3.11/site-packages (from requests>=2.23.0->ultralytics) (2024.2.2)\n",
      "Requirement already satisfied: filelock in /home/dhaval/anaconda3/lib/python3.11/site-packages (from torch>=1.8.0->ultralytics) (3.13.1)\n",
      "Requirement already satisfied: typing-extensions>=4.8.0 in /home/dhaval/anaconda3/lib/python3.11/site-packages (from torch>=1.8.0->ultralytics) (4.9.0)\n",
      "Requirement already satisfied: sympy in /home/dhaval/anaconda3/lib/python3.11/site-packages (from torch>=1.8.0->ultralytics) (1.12)\n",
      "Requirement already satisfied: networkx in /home/dhaval/anaconda3/lib/python3.11/site-packages (from torch>=1.8.0->ultralytics) (3.1)\n",
      "Requirement already satisfied: jinja2 in /home/dhaval/anaconda3/lib/python3.11/site-packages (from torch>=1.8.0->ultralytics) (3.1.3)\n",
      "Requirement already satisfied: fsspec in /home/dhaval/anaconda3/lib/python3.11/site-packages (from torch>=1.8.0->ultralytics) (2023.10.0)\n",
      "Requirement already satisfied: nvidia-cuda-nvrtc-cu12==12.1.105 in /home/dhaval/anaconda3/lib/python3.11/site-packages (from torch>=1.8.0->ultralytics) (12.1.105)\n",
      "Requirement already satisfied: nvidia-cuda-runtime-cu12==12.1.105 in /home/dhaval/anaconda3/lib/python3.11/site-packages (from torch>=1.8.0->ultralytics) (12.1.105)\n",
      "Requirement already satisfied: nvidia-cuda-cupti-cu12==12.1.105 in /home/dhaval/anaconda3/lib/python3.11/site-packages (from torch>=1.8.0->ultralytics) (12.1.105)\n",
      "Requirement already satisfied: nvidia-cudnn-cu12==8.9.2.26 in /home/dhaval/anaconda3/lib/python3.11/site-packages (from torch>=1.8.0->ultralytics) (8.9.2.26)\n",
      "Requirement already satisfied: nvidia-cublas-cu12==12.1.3.1 in /home/dhaval/anaconda3/lib/python3.11/site-packages (from torch>=1.8.0->ultralytics) (12.1.3.1)\n",
      "Requirement already satisfied: nvidia-cufft-cu12==11.0.2.54 in /home/dhaval/anaconda3/lib/python3.11/site-packages (from torch>=1.8.0->ultralytics) (11.0.2.54)\n",
      "Requirement already satisfied: nvidia-curand-cu12==10.3.2.106 in /home/dhaval/anaconda3/lib/python3.11/site-packages (from torch>=1.8.0->ultralytics) (10.3.2.106)\n",
      "Requirement already satisfied: nvidia-cusolver-cu12==11.4.5.107 in /home/dhaval/anaconda3/lib/python3.11/site-packages (from torch>=1.8.0->ultralytics) (11.4.5.107)\n",
      "Requirement already satisfied: nvidia-cusparse-cu12==12.1.0.106 in /home/dhaval/anaconda3/lib/python3.11/site-packages (from torch>=1.8.0->ultralytics) (12.1.0.106)\n",
      "Requirement already satisfied: nvidia-nccl-cu12==2.19.3 in /home/dhaval/anaconda3/lib/python3.11/site-packages (from torch>=1.8.0->ultralytics) (2.19.3)\n",
      "Requirement already satisfied: nvidia-nvtx-cu12==12.1.105 in /home/dhaval/anaconda3/lib/python3.11/site-packages (from torch>=1.8.0->ultralytics) (12.1.105)\n",
      "Requirement already satisfied: triton==2.2.0 in /home/dhaval/anaconda3/lib/python3.11/site-packages (from torch>=1.8.0->ultralytics) (2.2.0)\n",
      "Requirement already satisfied: nvidia-nvjitlink-cu12 in /home/dhaval/anaconda3/lib/python3.11/site-packages (from nvidia-cusolver-cu12==11.4.5.107->torch>=1.8.0->ultralytics) (12.4.127)\n",
      "Requirement already satisfied: six>=1.5 in /home/dhaval/anaconda3/lib/python3.11/site-packages (from python-dateutil>=2.7->matplotlib>=3.3.0->ultralytics) (1.16.0)\n",
      "Requirement already satisfied: MarkupSafe>=2.0 in /home/dhaval/anaconda3/lib/python3.11/site-packages (from jinja2->torch>=1.8.0->ultralytics) (2.1.3)\n",
      "Requirement already satisfied: mpmath>=0.19 in /home/dhaval/anaconda3/lib/python3.11/site-packages (from sympy->torch>=1.8.0->ultralytics) (1.3.0)\n",
      "Requirement already satisfied: tqdm in /home/dhaval/anaconda3/lib/python3.11/site-packages (4.65.0)\n",
      "Requirement already satisfied: pandas in /home/dhaval/anaconda3/lib/python3.11/site-packages (2.1.4)\n",
      "Requirement already satisfied: numpy<2,>=1.23.2 in /home/dhaval/anaconda3/lib/python3.11/site-packages (from pandas) (1.26.4)\n",
      "Requirement already satisfied: python-dateutil>=2.8.2 in /home/dhaval/anaconda3/lib/python3.11/site-packages (from pandas) (2.8.2)\n",
      "Requirement already satisfied: pytz>=2020.1 in /home/dhaval/anaconda3/lib/python3.11/site-packages (from pandas) (2023.3.post1)\n",
      "Requirement already satisfied: tzdata>=2022.1 in /home/dhaval/anaconda3/lib/python3.11/site-packages (from pandas) (2023.3)\n",
      "Requirement already satisfied: six>=1.5 in /home/dhaval/anaconda3/lib/python3.11/site-packages (from python-dateutil>=2.8.2->pandas) (1.16.0)\n",
      "Requirement already satisfied: pillow in /home/dhaval/anaconda3/lib/python3.11/site-packages (10.2.0)\n"
     ]
    }
   ],
   "source": [
    "!pip install ultralytics\n",
    "!pip install tqdm\n",
    "!pip install pandas\n",
    "!pip install pillow"
   ]
  },
  {
   "cell_type": "code",
   "execution_count": 2,
   "metadata": {},
   "outputs": [],
   "source": [
    "from ultralytics import YOLO\n",
    "import ultralytics\n",
    "from tqdm import tqdm\n",
    "import os\n",
    "import pandas as pd\n",
    "from PIL import Image\n",
    "import sys"
   ]
  },
  {
   "cell_type": "code",
   "execution_count": 3,
   "metadata": {},
   "outputs": [],
   "source": [
    "# Load a model\n",
    "model = YOLO(\"yolov8s.yaml\")  # build a new model from scratch\n",
    "model = YOLO(\"models/YOLOv8s.pt\")  # load a pretrained model (recommended for training)"
   ]
  },
  {
   "cell_type": "code",
   "execution_count": 4,
   "metadata": {},
   "outputs": [],
   "source": [
    "# Define the path\n",
    "path = 'images/original_images'\n",
    "\n",
    "# List all files in the directory\n",
    "file_list = [os.path.join(path, f) for f in os.listdir(path) if os.path.isfile(os.path.join(path, f))]"
   ]
  },
  {
   "cell_type": "markdown",
   "metadata": {},
   "source": [
    "## Original Prediction"
   ]
  },
  {
   "cell_type": "code",
   "execution_count": 5,
   "metadata": {},
   "outputs": [
    {
     "name": "stderr",
     "output_type": "stream",
     "text": [
      "100%|██████████| 10/10 [00:01<00:00,  5.63it/s]\n"
     ]
    }
   ],
   "source": [
    "results = []\n",
    "\n",
    "for i in tqdm(range(len(file_list))):\n",
    "    res = model.predict(file_list[i], verbose=False)\n",
    "    results.append(res[0])"
   ]
  },
  {
   "cell_type": "code",
   "execution_count": 6,
   "metadata": {},
   "outputs": [],
   "source": [
    "# Initialize an empty list to store the data\n",
    "data = []\n",
    "for i in range(len(results)):\n",
    "    try:\n",
    "        # Extract bounding boxes for each result\n",
    "        boxes = results[i].boxes.xyxy.tolist()\n",
    "        classes = results[i].boxes.cls.tolist()\n",
    "        Name = file_list[i].split('/')[-1]\n",
    "\n",
    "        # Check if there are no boxes detected\n",
    "        if not boxes:\n",
    "            data.append([Name+'_0', 0, 0, 0, 0])\n",
    "        else:\n",
    "            # Append each box with the associated file name to the data list\n",
    "            cnt = 0\n",
    "            for box, cls in zip(boxes, classes):\n",
    "                x_min, y_min, x_max, y_max = box\n",
    "                data.append([Name+'_'+str(cnt), x_min, y_min, x_max, y_max, cls])\n",
    "                cnt+=1\n",
    "                \n",
    "    except Exception as e:\n",
    "        print(i)\n",
    "        raise e"
   ]
  },
  {
   "cell_type": "code",
   "execution_count": 7,
   "metadata": {},
   "outputs": [],
   "source": [
    "df_pred = pd.DataFrame(data, columns=['Name', 'x_min', 'y_min', 'x_max', 'y_max', 'label'])"
   ]
  },
  {
   "cell_type": "markdown",
   "metadata": {},
   "source": [
    "## Original Ground Truth"
   ]
  },
  {
   "cell_type": "code",
   "execution_count": 8,
   "metadata": {},
   "outputs": [],
   "source": [
    "# Define the path to the directory containing the text files\n",
    "\n",
    "# Initialize an empty list to store the ground truth data\n",
    "ground_truth_txt = []\n",
    "txt_path = 'ground_truth_files/'\n",
    "# Iterate through each file in the directory\n",
    "for f in file_list:\n",
    "    filename = f.split('/')[-1].split('.')[0] + '.txt'\n",
    "    file_path = os.path.join(txt_path, filename)\n",
    "    with open(file_path, 'r') as file:\n",
    "        content = file.read()\n",
    "        ground_truth_txt.append(content)"
   ]
  },
  {
   "cell_type": "code",
   "execution_count": 9,
   "metadata": {},
   "outputs": [],
   "source": [
    "ground_truth = []\n",
    "\n",
    "for gt in ground_truth_txt:\n",
    "    ground_truth.append([float(num) for num in gt.split() if num not in ['\\n']])"
   ]
  },
  {
   "cell_type": "code",
   "execution_count": 10,
   "metadata": {},
   "outputs": [],
   "source": [
    "for i in range(len(ground_truth)):\n",
    "    image = Image.open(file_list[i])\n",
    "    width = image.width\n",
    "    height = image.height\n",
    "    for j in range(len(ground_truth[i])):\n",
    "        if j % 5 == 0:\n",
    "            continue\n",
    "        if j % 2 == 0:\n",
    "            ground_truth[i][j] *= width\n",
    "        else:\n",
    "            ground_truth[i][j] *= height"
   ]
  },
  {
   "cell_type": "code",
   "execution_count": 11,
   "metadata": {},
   "outputs": [],
   "source": [
    "def convert_to_corners(center_x, center_y, width, height):\n",
    "    # Calculate top-left corner (xmin, ymin)\n",
    "    xmin = center_x - (width / 2)\n",
    "    ymin = center_y - (height / 2)\n",
    "\n",
    "    # Calculate bottom-right corner (xmax, ymax)\n",
    "    xmax = center_x + (width / 2)\n",
    "    ymax = center_y + (height / 2)\n",
    "\n",
    "    return xmin, ymin, xmax, ymax"
   ]
  },
  {
   "cell_type": "code",
   "execution_count": 12,
   "metadata": {},
   "outputs": [],
   "source": [
    "for i in range(len(ground_truth)):\n",
    "        length = len(ground_truth[i])\n",
    "        cnt = 0\n",
    "        while(length):\n",
    "                ground_truth[i][cnt*5+1], ground_truth[i][cnt*5+2], ground_truth[i][cnt*5+3], ground_truth[i][cnt*5+4] = convert_to_corners(ground_truth[i][cnt*5+1], ground_truth[i][cnt*5+2], ground_truth[i][cnt*5+3], ground_truth[i][cnt*5+4])\n",
    "                length -= 5\n",
    "                cnt+=1"
   ]
  },
  {
   "cell_type": "code",
   "execution_count": 13,
   "metadata": {},
   "outputs": [],
   "source": [
    "# Initialize an empty list to store the data\n",
    "data = []\n",
    "\n",
    "for i in range(len(ground_truth)):\n",
    "    try:\n",
    "        Name = file_list[i].split('/')[-1]  # Assuming there's a filename attribute\n",
    "        # Initialize an empty list to hold the slices\n",
    "        slices = []\n",
    "\n",
    "        # Iterate through the numbers in steps of 5\n",
    "        for j in range(0, len(ground_truth[i]), 5):\n",
    "            # Create a slice of 4 elements\n",
    "            slice = ground_truth[i][j:j+5]\n",
    "            # Add the slice to the list of slices\n",
    "            slices.append(slice)\n",
    "            \n",
    "            \n",
    "        cnt = 0\n",
    "        for box in slices:\n",
    "            cls, x_min, y_min, x_max, y_max = box\n",
    "            data.append([Name+'_'+str(cnt), x_min, y_min, x_max, y_max, cls])\n",
    "            cnt+=1\n",
    "\n",
    "    except Exception as e:\n",
    "        # print(slices)\n",
    "        # print(box)\n",
    "        print(i)\n",
    "        raise e"
   ]
  },
  {
   "cell_type": "code",
   "execution_count": 14,
   "metadata": {},
   "outputs": [],
   "source": [
    "df_gt = pd.DataFrame(data, columns=['Name', 'x_min', 'y_min', 'x_max', 'y_max', 'class'])"
   ]
  },
  {
   "cell_type": "markdown",
   "metadata": {},
   "source": [
    "## Whatsapp Ground Truth"
   ]
  },
  {
   "cell_type": "code",
   "execution_count": 15,
   "metadata": {},
   "outputs": [],
   "source": [
    "ground_truth = []\n",
    "\n",
    "for gt in ground_truth_txt:\n",
    "    ground_truth.append([float(num) for num in gt.split() if num not in ['\\n']])"
   ]
  },
  {
   "cell_type": "code",
   "execution_count": 16,
   "metadata": {},
   "outputs": [
    {
     "data": {
      "text/plain": [
       "'images/whatsapp_images/dc7d6c6fa1fdde25e0aa64a1f6fd594a.png'"
      ]
     },
     "execution_count": 16,
     "metadata": {},
     "output_type": "execute_result"
    }
   ],
   "source": [
    "file_list[0].replace('original_images','whatsapp_images')"
   ]
  },
  {
   "cell_type": "code",
   "execution_count": 17,
   "metadata": {},
   "outputs": [],
   "source": [
    "for i in range(len(ground_truth)):\n",
    "    image = Image.open(file_list[i].replace('original_images','whatsapp_images'))\n",
    "    width = image.width\n",
    "    height = image.height\n",
    "    for j in range(len(ground_truth[i])):\n",
    "        if j % 5 == 0:\n",
    "            continue\n",
    "        if j % 2 == 0:\n",
    "            ground_truth[i][j] *= width\n",
    "        else:\n",
    "            ground_truth[i][j] *= height"
   ]
  },
  {
   "cell_type": "code",
   "execution_count": 18,
   "metadata": {},
   "outputs": [],
   "source": [
    "for i in range(len(ground_truth)):\n",
    "        length = len(ground_truth[i])\n",
    "        cnt = 0\n",
    "        while(length):\n",
    "                ground_truth[i][cnt*5+1], ground_truth[i][cnt*5+2], ground_truth[i][cnt*5+3], ground_truth[i][cnt*5+4] = convert_to_corners(ground_truth[i][cnt*5+1], ground_truth[i][cnt*5+2], ground_truth[i][cnt*5+3], ground_truth[i][cnt*5+4])\n",
    "                length -= 5\n",
    "                cnt+=1"
   ]
  },
  {
   "cell_type": "code",
   "execution_count": 19,
   "metadata": {},
   "outputs": [],
   "source": [
    "# Initialize an empty list to store the data\n",
    "data = []\n",
    "\n",
    "for i in range(len(ground_truth)):\n",
    "    try:\n",
    "        Name = file_list[i].split('/')[-1]  # Assuming there's a filename attribute\n",
    "        # Initialize an empty list to hold the slices\n",
    "        slices = []\n",
    "\n",
    "        # Iterate through the numbers in steps of 5\n",
    "        for j in range(0, len(ground_truth[i]), 5):\n",
    "            # Create a slice of 4 elements\n",
    "            slice = ground_truth[i][j:j+5]\n",
    "            # Add the slice to the list of slices\n",
    "            slices.append(slice)\n",
    "            \n",
    "            \n",
    "        cnt = 0\n",
    "        for box in slices:\n",
    "            cls, x_min, y_min, x_max, y_max = box\n",
    "            data.append([Name+'_'+str(cnt), x_min, y_min, x_max, y_max, cls])\n",
    "            cnt+=1\n",
    "\n",
    "    except Exception as e:\n",
    "        # print(slices)\n",
    "        # print(box)\n",
    "        print(i)\n",
    "        raise e"
   ]
  },
  {
   "cell_type": "code",
   "execution_count": 20,
   "metadata": {},
   "outputs": [],
   "source": [
    "df_gt_wp = pd.DataFrame(data, columns=['Name', 'x_min', 'y_min', 'x_max', 'y_max', 'class'])"
   ]
  },
  {
   "cell_type": "markdown",
   "metadata": {},
   "source": [
    "## WP Prediction"
   ]
  },
  {
   "cell_type": "code",
   "execution_count": 21,
   "metadata": {},
   "outputs": [],
   "source": [
    "wp_images_path = 'images/whatsapp_images'"
   ]
  },
  {
   "cell_type": "code",
   "execution_count": 22,
   "metadata": {},
   "outputs": [],
   "source": [
    "wp_pred_Names = []\n",
    "for filename in os.listdir(wp_images_path):\n",
    "    wp_pred_Names.append(filename)"
   ]
  },
  {
   "cell_type": "code",
   "execution_count": 23,
   "metadata": {},
   "outputs": [],
   "source": [
    "# Define the path\n",
    "\n",
    "# List all files in the directory\n",
    "wp_file_list = [os.path.join(wp_images_path, f) for f in os.listdir(wp_images_path) if os.path.isfile(os.path.join(wp_images_path, f))]"
   ]
  },
  {
   "cell_type": "code",
   "execution_count": 24,
   "metadata": {},
   "outputs": [
    {
     "data": {
      "text/plain": [
       "['images/whatsapp_images/dc7d6c6fa1fdde25e0aa64a1f6fd594a.png',\n",
       " 'images/whatsapp_images/e529c5465cafd94ee9a3b38f7267523a.png',\n",
       " 'images/whatsapp_images/da95c308ecf6b869be4930aa124c0d7e.png',\n",
       " 'images/whatsapp_images/fb16b22a22ab5aa31e8de22118a8183c.png',\n",
       " 'images/whatsapp_images/d79e29f792f1225d45994d75d624f8d1.png',\n",
       " 'images/whatsapp_images/e7ae00eef602436f48a44b36dc79b383.png',\n",
       " 'images/whatsapp_images/ecef71a87df9aee5cca62966f95d9f26.png',\n",
       " 'images/whatsapp_images/f51c1a48919f8b36116ed4aa799dcb23.png',\n",
       " 'images/whatsapp_images/fd079817727211a09fd6b0415463f23d.png',\n",
       " 'images/whatsapp_images/e67e4cab40626c54b8fc20ce6e9e4273.png']"
      ]
     },
     "execution_count": 24,
     "metadata": {},
     "output_type": "execute_result"
    }
   ],
   "source": [
    "wp_file_list"
   ]
  },
  {
   "cell_type": "code",
   "execution_count": 25,
   "metadata": {},
   "outputs": [
    {
     "name": "stderr",
     "output_type": "stream",
     "text": [
      "100%|██████████| 10/10 [00:00<00:00, 42.83it/s]\n"
     ]
    }
   ],
   "source": [
    "wp_results = []\n",
    "\n",
    "for i in tqdm(range(len(wp_file_list))):\n",
    "    res = model.predict(wp_file_list[i], verbose=False)\n",
    "    wp_results.append(res[0])"
   ]
  },
  {
   "cell_type": "code",
   "execution_count": 26,
   "metadata": {},
   "outputs": [
    {
     "name": "stdout",
     "output_type": "stream",
     "text": [
      "10\n"
     ]
    }
   ],
   "source": [
    "# Initialize an empty list to store the data\n",
    "data = []\n",
    "cnt1 = 0\n",
    "for i in range(len(wp_results)):\n",
    "    try:\n",
    "        # Extract bounding boxes for each result\n",
    "        boxes = wp_results[i].boxes.xyxy.tolist()\n",
    "        classes = wp_results[i].boxes.cls.tolist()\n",
    "        Name = wp_file_list[i].split('/')[-1]  # Assuming there's a filename attribute\n",
    "        \n",
    "        cnt1+=1\n",
    "            # Check if there are no boxes detected\n",
    "        if not boxes:\n",
    "            data.append([Name+'_0', 0, 0, 0, 0])\n",
    "        else:\n",
    "            # Append each box with the associated file name to the data list\n",
    "            cnt = 0\n",
    "            for cls, box in zip(classes,boxes):\n",
    "                x_min, y_min, x_max, y_max = box\n",
    "                data.append([Name+'_'+str(cnt), x_min, y_min, x_max, y_max, cls])\n",
    "                cnt+=1\n",
    "\n",
    "    except Exception as e:\n",
    "        print(i)\n",
    "        raise e\n",
    "print(cnt1)"
   ]
  },
  {
   "cell_type": "code",
   "execution_count": 27,
   "metadata": {},
   "outputs": [],
   "source": [
    "df_pred_wp = pd.DataFrame(data, columns=['Name', 'x_min', 'y_min', 'x_max', 'y_max', 'label'])"
   ]
  },
  {
   "cell_type": "markdown",
   "metadata": {},
   "source": [
    "## Data frames"
   ]
  },
  {
   "cell_type": "code",
   "execution_count": 28,
   "metadata": {},
   "outputs": [
    {
     "data": {
      "text/html": [
       "<div>\n",
       "<style scoped>\n",
       "    .dataframe tbody tr th:only-of-type {\n",
       "        vertical-align: middle;\n",
       "    }\n",
       "\n",
       "    .dataframe tbody tr th {\n",
       "        vertical-align: top;\n",
       "    }\n",
       "\n",
       "    .dataframe thead th {\n",
       "        text-align: right;\n",
       "    }\n",
       "</style>\n",
       "<table border=\"1\" class=\"dataframe\">\n",
       "  <thead>\n",
       "    <tr style=\"text-align: right;\">\n",
       "      <th></th>\n",
       "      <th>Name</th>\n",
       "      <th>x_min</th>\n",
       "      <th>y_min</th>\n",
       "      <th>x_max</th>\n",
       "      <th>y_max</th>\n",
       "      <th>class</th>\n",
       "    </tr>\n",
       "  </thead>\n",
       "  <tbody>\n",
       "    <tr>\n",
       "      <th>0</th>\n",
       "      <td>dc7d6c6fa1fdde25e0aa64a1f6fd594a.png_0</td>\n",
       "      <td>677.5</td>\n",
       "      <td>505.6</td>\n",
       "      <td>1010.0</td>\n",
       "      <td>897.6</td>\n",
       "      <td>1.0</td>\n",
       "    </tr>\n",
       "    <tr>\n",
       "      <th>1</th>\n",
       "      <td>dc7d6c6fa1fdde25e0aa64a1f6fd594a.png_1</td>\n",
       "      <td>1107.0</td>\n",
       "      <td>1007.0</td>\n",
       "      <td>1405.0</td>\n",
       "      <td>1519.0</td>\n",
       "      <td>0.0</td>\n",
       "    </tr>\n",
       "    <tr>\n",
       "      <th>2</th>\n",
       "      <td>dc7d6c6fa1fdde25e0aa64a1f6fd594a.png_2</td>\n",
       "      <td>327.5</td>\n",
       "      <td>1248.8</td>\n",
       "      <td>490.0</td>\n",
       "      <td>1718.4</td>\n",
       "      <td>11.0</td>\n",
       "    </tr>\n",
       "    <tr>\n",
       "      <th>3</th>\n",
       "      <td>dc7d6c6fa1fdde25e0aa64a1f6fd594a.png_3</td>\n",
       "      <td>363.0</td>\n",
       "      <td>1598.0</td>\n",
       "      <td>607.0</td>\n",
       "      <td>1997.0</td>\n",
       "      <td>9.0</td>\n",
       "    </tr>\n",
       "    <tr>\n",
       "      <th>4</th>\n",
       "      <td>dc7d6c6fa1fdde25e0aa64a1f6fd594a.png_4</td>\n",
       "      <td>300.0</td>\n",
       "      <td>1777.6</td>\n",
       "      <td>437.5</td>\n",
       "      <td>1902.4</td>\n",
       "      <td>10.0</td>\n",
       "    </tr>\n",
       "  </tbody>\n",
       "</table>\n",
       "</div>"
      ],
      "text/plain": [
       "                                     Name   x_min   y_min   x_max   y_max  \\\n",
       "0  dc7d6c6fa1fdde25e0aa64a1f6fd594a.png_0   677.5   505.6  1010.0   897.6   \n",
       "1  dc7d6c6fa1fdde25e0aa64a1f6fd594a.png_1  1107.0  1007.0  1405.0  1519.0   \n",
       "2  dc7d6c6fa1fdde25e0aa64a1f6fd594a.png_2   327.5  1248.8   490.0  1718.4   \n",
       "3  dc7d6c6fa1fdde25e0aa64a1f6fd594a.png_3   363.0  1598.0   607.0  1997.0   \n",
       "4  dc7d6c6fa1fdde25e0aa64a1f6fd594a.png_4   300.0  1777.6   437.5  1902.4   \n",
       "\n",
       "   class  \n",
       "0    1.0  \n",
       "1    0.0  \n",
       "2   11.0  \n",
       "3    9.0  \n",
       "4   10.0  "
      ]
     },
     "execution_count": 28,
     "metadata": {},
     "output_type": "execute_result"
    }
   ],
   "source": [
    "df_gt.head()"
   ]
  },
  {
   "cell_type": "code",
   "execution_count": 29,
   "metadata": {},
   "outputs": [
    {
     "data": {
      "text/html": [
       "<div>\n",
       "<style scoped>\n",
       "    .dataframe tbody tr th:only-of-type {\n",
       "        vertical-align: middle;\n",
       "    }\n",
       "\n",
       "    .dataframe tbody tr th {\n",
       "        vertical-align: top;\n",
       "    }\n",
       "\n",
       "    .dataframe thead th {\n",
       "        text-align: right;\n",
       "    }\n",
       "</style>\n",
       "<table border=\"1\" class=\"dataframe\">\n",
       "  <thead>\n",
       "    <tr style=\"text-align: right;\">\n",
       "      <th></th>\n",
       "      <th>Name</th>\n",
       "      <th>x_min</th>\n",
       "      <th>y_min</th>\n",
       "      <th>x_max</th>\n",
       "      <th>y_max</th>\n",
       "      <th>class</th>\n",
       "    </tr>\n",
       "  </thead>\n",
       "  <tbody>\n",
       "    <tr>\n",
       "      <th>0</th>\n",
       "      <td>dc7d6c6fa1fdde25e0aa64a1f6fd594a.png_0</td>\n",
       "      <td>368.625868</td>\n",
       "      <td>274.963889</td>\n",
       "      <td>549.538194</td>\n",
       "      <td>488.147917</td>\n",
       "      <td>1.0</td>\n",
       "    </tr>\n",
       "    <tr>\n",
       "      <th>1</th>\n",
       "      <td>dc7d6c6fa1fdde25e0aa64a1f6fd594a.png_1</td>\n",
       "      <td>602.027344</td>\n",
       "      <td>547.905903</td>\n",
       "      <td>764.090712</td>\n",
       "      <td>826.483681</td>\n",
       "      <td>0.0</td>\n",
       "    </tr>\n",
       "    <tr>\n",
       "      <th>2</th>\n",
       "      <td>dc7d6c6fa1fdde25e0aa64a1f6fd594a.png_2</td>\n",
       "      <td>178.191840</td>\n",
       "      <td>679.143403</td>\n",
       "      <td>266.607639</td>\n",
       "      <td>934.529167</td>\n",
       "      <td>11.0</td>\n",
       "    </tr>\n",
       "    <tr>\n",
       "      <th>3</th>\n",
       "      <td>dc7d6c6fa1fdde25e0aa64a1f6fd594a.png_3</td>\n",
       "      <td>197.412760</td>\n",
       "      <td>869.467361</td>\n",
       "      <td>330.108941</td>\n",
       "      <td>1086.562153</td>\n",
       "      <td>9.0</td>\n",
       "    </tr>\n",
       "    <tr>\n",
       "      <th>4</th>\n",
       "      <td>dc7d6c6fa1fdde25e0aa64a1f6fd594a.png_4</td>\n",
       "      <td>163.229167</td>\n",
       "      <td>966.724306</td>\n",
       "      <td>238.042535</td>\n",
       "      <td>1034.595139</td>\n",
       "      <td>10.0</td>\n",
       "    </tr>\n",
       "  </tbody>\n",
       "</table>\n",
       "</div>"
      ],
      "text/plain": [
       "                                     Name       x_min       y_min       x_max  \\\n",
       "0  dc7d6c6fa1fdde25e0aa64a1f6fd594a.png_0  368.625868  274.963889  549.538194   \n",
       "1  dc7d6c6fa1fdde25e0aa64a1f6fd594a.png_1  602.027344  547.905903  764.090712   \n",
       "2  dc7d6c6fa1fdde25e0aa64a1f6fd594a.png_2  178.191840  679.143403  266.607639   \n",
       "3  dc7d6c6fa1fdde25e0aa64a1f6fd594a.png_3  197.412760  869.467361  330.108941   \n",
       "4  dc7d6c6fa1fdde25e0aa64a1f6fd594a.png_4  163.229167  966.724306  238.042535   \n",
       "\n",
       "         y_max  class  \n",
       "0   488.147917    1.0  \n",
       "1   826.483681    0.0  \n",
       "2   934.529167   11.0  \n",
       "3  1086.562153    9.0  \n",
       "4  1034.595139   10.0  "
      ]
     },
     "execution_count": 29,
     "metadata": {},
     "output_type": "execute_result"
    }
   ],
   "source": [
    "df_gt_wp.head()"
   ]
  },
  {
   "cell_type": "code",
   "execution_count": 30,
   "metadata": {},
   "outputs": [
    {
     "data": {
      "text/html": [
       "<div>\n",
       "<style scoped>\n",
       "    .dataframe tbody tr th:only-of-type {\n",
       "        vertical-align: middle;\n",
       "    }\n",
       "\n",
       "    .dataframe tbody tr th {\n",
       "        vertical-align: top;\n",
       "    }\n",
       "\n",
       "    .dataframe thead th {\n",
       "        text-align: right;\n",
       "    }\n",
       "</style>\n",
       "<table border=\"1\" class=\"dataframe\">\n",
       "  <thead>\n",
       "    <tr style=\"text-align: right;\">\n",
       "      <th></th>\n",
       "      <th>Name</th>\n",
       "      <th>x_min</th>\n",
       "      <th>y_min</th>\n",
       "      <th>x_max</th>\n",
       "      <th>y_max</th>\n",
       "      <th>label</th>\n",
       "    </tr>\n",
       "  </thead>\n",
       "  <tbody>\n",
       "    <tr>\n",
       "      <th>0</th>\n",
       "      <td>dc7d6c6fa1fdde25e0aa64a1f6fd594a.png_0</td>\n",
       "      <td>1032.324463</td>\n",
       "      <td>1012.293457</td>\n",
       "      <td>1410.901367</td>\n",
       "      <td>1415.352417</td>\n",
       "      <td>0.0</td>\n",
       "    </tr>\n",
       "    <tr>\n",
       "      <th>1</th>\n",
       "      <td>dc7d6c6fa1fdde25e0aa64a1f6fd594a.png_1</td>\n",
       "      <td>435.428009</td>\n",
       "      <td>948.709534</td>\n",
       "      <td>756.433960</td>\n",
       "      <td>1316.043335</td>\n",
       "      <td>13.0</td>\n",
       "    </tr>\n",
       "    <tr>\n",
       "      <th>2</th>\n",
       "      <td>dc7d6c6fa1fdde25e0aa64a1f6fd594a.png_2</td>\n",
       "      <td>394.834259</td>\n",
       "      <td>936.460144</td>\n",
       "      <td>827.138245</td>\n",
       "      <td>1719.329834</td>\n",
       "      <td>13.0</td>\n",
       "    </tr>\n",
       "    <tr>\n",
       "      <th>3</th>\n",
       "      <td>dc7d6c6fa1fdde25e0aa64a1f6fd594a.png_3</td>\n",
       "      <td>436.574280</td>\n",
       "      <td>688.318848</td>\n",
       "      <td>913.112732</td>\n",
       "      <td>1113.716064</td>\n",
       "      <td>1.0</td>\n",
       "    </tr>\n",
       "    <tr>\n",
       "      <th>4</th>\n",
       "      <td>dc7d6c6fa1fdde25e0aa64a1f6fd594a.png_4</td>\n",
       "      <td>376.870056</td>\n",
       "      <td>663.337769</td>\n",
       "      <td>946.169922</td>\n",
       "      <td>1376.797852</td>\n",
       "      <td>1.0</td>\n",
       "    </tr>\n",
       "  </tbody>\n",
       "</table>\n",
       "</div>"
      ],
      "text/plain": [
       "                                     Name        x_min        y_min  \\\n",
       "0  dc7d6c6fa1fdde25e0aa64a1f6fd594a.png_0  1032.324463  1012.293457   \n",
       "1  dc7d6c6fa1fdde25e0aa64a1f6fd594a.png_1   435.428009   948.709534   \n",
       "2  dc7d6c6fa1fdde25e0aa64a1f6fd594a.png_2   394.834259   936.460144   \n",
       "3  dc7d6c6fa1fdde25e0aa64a1f6fd594a.png_3   436.574280   688.318848   \n",
       "4  dc7d6c6fa1fdde25e0aa64a1f6fd594a.png_4   376.870056   663.337769   \n",
       "\n",
       "         x_max        y_max  label  \n",
       "0  1410.901367  1415.352417    0.0  \n",
       "1   756.433960  1316.043335   13.0  \n",
       "2   827.138245  1719.329834   13.0  \n",
       "3   913.112732  1113.716064    1.0  \n",
       "4   946.169922  1376.797852    1.0  "
      ]
     },
     "execution_count": 30,
     "metadata": {},
     "output_type": "execute_result"
    }
   ],
   "source": [
    "df_pred.head()"
   ]
  },
  {
   "cell_type": "code",
   "execution_count": 31,
   "metadata": {},
   "outputs": [
    {
     "data": {
      "text/html": [
       "<div>\n",
       "<style scoped>\n",
       "    .dataframe tbody tr th:only-of-type {\n",
       "        vertical-align: middle;\n",
       "    }\n",
       "\n",
       "    .dataframe tbody tr th {\n",
       "        vertical-align: top;\n",
       "    }\n",
       "\n",
       "    .dataframe thead th {\n",
       "        text-align: right;\n",
       "    }\n",
       "</style>\n",
       "<table border=\"1\" class=\"dataframe\">\n",
       "  <thead>\n",
       "    <tr style=\"text-align: right;\">\n",
       "      <th></th>\n",
       "      <th>Name</th>\n",
       "      <th>x_min</th>\n",
       "      <th>y_min</th>\n",
       "      <th>x_max</th>\n",
       "      <th>y_max</th>\n",
       "      <th>label</th>\n",
       "    </tr>\n",
       "  </thead>\n",
       "  <tbody>\n",
       "    <tr>\n",
       "      <th>0</th>\n",
       "      <td>dc7d6c6fa1fdde25e0aa64a1f6fd594a.png_0</td>\n",
       "      <td>234.118698</td>\n",
       "      <td>514.765442</td>\n",
       "      <td>410.596405</td>\n",
       "      <td>716.427612</td>\n",
       "      <td>13.0</td>\n",
       "    </tr>\n",
       "    <tr>\n",
       "      <th>1</th>\n",
       "      <td>dc7d6c6fa1fdde25e0aa64a1f6fd594a.png_1</td>\n",
       "      <td>564.053406</td>\n",
       "      <td>551.031189</td>\n",
       "      <td>766.893555</td>\n",
       "      <td>765.209656</td>\n",
       "      <td>0.0</td>\n",
       "    </tr>\n",
       "    <tr>\n",
       "      <th>2</th>\n",
       "      <td>dc7d6c6fa1fdde25e0aa64a1f6fd594a.png_2</td>\n",
       "      <td>207.434494</td>\n",
       "      <td>507.496490</td>\n",
       "      <td>455.350983</td>\n",
       "      <td>939.540527</td>\n",
       "      <td>1.0</td>\n",
       "    </tr>\n",
       "    <tr>\n",
       "      <th>3</th>\n",
       "      <td>dc7d6c6fa1fdde25e0aa64a1f6fd594a.png_3</td>\n",
       "      <td>208.180389</td>\n",
       "      <td>511.461426</td>\n",
       "      <td>444.322510</td>\n",
       "      <td>938.135437</td>\n",
       "      <td>13.0</td>\n",
       "    </tr>\n",
       "    <tr>\n",
       "      <th>4</th>\n",
       "      <td>dc7d6c6fa1fdde25e0aa64a1f6fd594a.png_4</td>\n",
       "      <td>196.941101</td>\n",
       "      <td>356.972443</td>\n",
       "      <td>516.269104</td>\n",
       "      <td>752.030762</td>\n",
       "      <td>1.0</td>\n",
       "    </tr>\n",
       "  </tbody>\n",
       "</table>\n",
       "</div>"
      ],
      "text/plain": [
       "                                     Name       x_min       y_min       x_max  \\\n",
       "0  dc7d6c6fa1fdde25e0aa64a1f6fd594a.png_0  234.118698  514.765442  410.596405   \n",
       "1  dc7d6c6fa1fdde25e0aa64a1f6fd594a.png_1  564.053406  551.031189  766.893555   \n",
       "2  dc7d6c6fa1fdde25e0aa64a1f6fd594a.png_2  207.434494  507.496490  455.350983   \n",
       "3  dc7d6c6fa1fdde25e0aa64a1f6fd594a.png_3  208.180389  511.461426  444.322510   \n",
       "4  dc7d6c6fa1fdde25e0aa64a1f6fd594a.png_4  196.941101  356.972443  516.269104   \n",
       "\n",
       "        y_max  label  \n",
       "0  716.427612   13.0  \n",
       "1  765.209656    0.0  \n",
       "2  939.540527    1.0  \n",
       "3  938.135437   13.0  \n",
       "4  752.030762    1.0  "
      ]
     },
     "execution_count": 31,
     "metadata": {},
     "output_type": "execute_result"
    }
   ],
   "source": [
    "df_pred_wp.head()"
   ]
  },
  {
   "cell_type": "markdown",
   "metadata": {},
   "source": [
    "## LI Score"
   ]
  },
  {
   "cell_type": "code",
   "execution_count": 32,
   "metadata": {},
   "outputs": [],
   "source": [
    "from cheXwhatsApp import li_score"
   ]
  },
  {
   "cell_type": "code",
   "execution_count": 33,
   "metadata": {},
   "outputs": [],
   "source": [
    "ans = li_score(df_pred, df_pred_wp, df_gt, df_gt_wp, iou_thresholds=[0.1,0.3,0.5,0.7,0.9])"
   ]
  },
  {
   "cell_type": "code",
   "execution_count": 34,
   "metadata": {},
   "outputs": [
    {
     "data": {
      "text/plain": [
       "dict"
      ]
     },
     "execution_count": 34,
     "metadata": {},
     "output_type": "execute_result"
    }
   ],
   "source": [
    "type(ans)"
   ]
  },
  {
   "cell_type": "code",
   "execution_count": 35,
   "metadata": {},
   "outputs": [
    {
     "data": {
      "text/plain": [
       "0.1"
      ]
     },
     "execution_count": 35,
     "metadata": {},
     "output_type": "execute_result"
    }
   ],
   "source": [
    "ans[0.5]"
   ]
  },
  {
   "cell_type": "code",
   "execution_count": 36,
   "metadata": {},
   "outputs": [
    {
     "data": {
      "text/plain": [
       "{0.1: 0.125, 0.3: 0.1, 0.5: 0.1, 0.7: 0.075, 0.9: 0.0}"
      ]
     },
     "execution_count": 36,
     "metadata": {},
     "output_type": "execute_result"
    }
   ],
   "source": [
    "ans"
   ]
  }
 ],
 "metadata": {
  "kernelspec": {
   "display_name": "sahil",
   "language": "python",
   "name": "python3"
  },
  "language_info": {
   "codemirror_mode": {
    "name": "ipython",
    "version": 3
   },
   "file_extension": ".py",
   "mimetype": "text/x-python",
   "name": "python",
   "nbconvert_exporter": "python",
   "pygments_lexer": "ipython3",
   "version": "3.11.7"
  }
 },
 "nbformat": 4,
 "nbformat_minor": 2
}
