{
 "cells": [
  {
   "cell_type": "code",
   "execution_count": 1,
   "metadata": {},
   "outputs": [],
   "source": [
    "import torch\n",
    "from cheXwhatsApp import ols_score"
   ]
  },
  {
   "cell_type": "code",
   "execution_count": 3,
   "metadata": {},
   "outputs": [],
   "source": [
    "image_path = 'images/original'\n",
    "heatmap_hr_dir = 'heat_maps/heatmap_bw_org'\n",
    "heatmap_lr_dir = 'heat_maps/heatmap_bw_wp'"
   ]
  },
  {
   "cell_type": "code",
   "execution_count": null,
   "metadata": {},
   "outputs": [],
   "source": [
    "device = 'cuda' if torch.cuda.is_available() else 'cpu'"
   ]
  },
  {
   "cell_type": "code",
   "execution_count": null,
   "metadata": {},
   "outputs": [],
   "source": [
    "thresholds = [0.1,0.3,0.5,0.7,0.9]"
   ]
  },
  {
   "cell_type": "code",
   "execution_count": 4,
   "metadata": {},
   "outputs": [
    {
     "name": "stdout",
     "output_type": "stream",
     "text": [
      "/home/dhaval/anaconda3/envs/sahil/lib/python3.12/site-packages/cheXwhatsApp/lung_segmentation.pt\n"
     ]
    },
    {
     "name": "stderr",
     "output_type": "stream",
     "text": [
      "10it [00:01,  6.92it/s]\n"
     ]
    }
   ],
   "source": [
    "df = ols_score(image_path, heatmap_hr_dir, heatmap_lr_dir, device, thresholds=thresholds)"
   ]
  },
  {
   "cell_type": "code",
   "execution_count": 5,
   "metadata": {},
   "outputs": [
    {
     "data": {
      "text/html": [
       "<div>\n",
       "<style scoped>\n",
       "    .dataframe tbody tr th:only-of-type {\n",
       "        vertical-align: middle;\n",
       "    }\n",
       "\n",
       "    .dataframe tbody tr th {\n",
       "        vertical-align: top;\n",
       "    }\n",
       "\n",
       "    .dataframe thead th {\n",
       "        text-align: right;\n",
       "    }\n",
       "</style>\n",
       "<table border=\"1\" class=\"dataframe\">\n",
       "  <thead>\n",
       "    <tr style=\"text-align: right;\">\n",
       "      <th></th>\n",
       "      <th>Image_Name</th>\n",
       "      <th>HR_Score_0.9</th>\n",
       "      <th>LR_Score_0.9</th>\n",
       "    </tr>\n",
       "  </thead>\n",
       "  <tbody>\n",
       "    <tr>\n",
       "      <th>0</th>\n",
       "      <td>valid_synthetic_digital_patient64718_study1_vi...</td>\n",
       "      <td>0.452096</td>\n",
       "      <td>0.502786</td>\n",
       "    </tr>\n",
       "    <tr>\n",
       "      <th>1</th>\n",
       "      <td>valid_natural_oneplus_patient64705_study1_view...</td>\n",
       "      <td>0.857692</td>\n",
       "      <td>0.000000</td>\n",
       "    </tr>\n",
       "    <tr>\n",
       "      <th>2</th>\n",
       "      <td>valid_synthetic_photographic_patient64698_stud...</td>\n",
       "      <td>0.979954</td>\n",
       "      <td>0.981116</td>\n",
       "    </tr>\n",
       "    <tr>\n",
       "      <th>3</th>\n",
       "      <td>valid_synthetic_photographic_patient64585_stud...</td>\n",
       "      <td>1.000000</td>\n",
       "      <td>1.000000</td>\n",
       "    </tr>\n",
       "    <tr>\n",
       "      <th>4</th>\n",
       "      <td>valid_synthetic_photographic_patient64663_stud...</td>\n",
       "      <td>0.105125</td>\n",
       "      <td>0.122166</td>\n",
       "    </tr>\n",
       "    <tr>\n",
       "      <th>5</th>\n",
       "      <td>valid_synthetic_digital_patient64687_study1_vi...</td>\n",
       "      <td>1.000000</td>\n",
       "      <td>1.000000</td>\n",
       "    </tr>\n",
       "    <tr>\n",
       "      <th>6</th>\n",
       "      <td>valid_synthetic_photographic_patient64599_stud...</td>\n",
       "      <td>1.000000</td>\n",
       "      <td>1.000000</td>\n",
       "    </tr>\n",
       "    <tr>\n",
       "      <th>7</th>\n",
       "      <td>valid_synthetic_digital_patient64595_study1_vi...</td>\n",
       "      <td>0.992354</td>\n",
       "      <td>0.992827</td>\n",
       "    </tr>\n",
       "    <tr>\n",
       "      <th>8</th>\n",
       "      <td>valid_natural_oneplus_patient64721_study1_view...</td>\n",
       "      <td>0.948454</td>\n",
       "      <td>0.948864</td>\n",
       "    </tr>\n",
       "    <tr>\n",
       "      <th>9</th>\n",
       "      <td>valid_synthetic_digital_patient64600_study1_vi...</td>\n",
       "      <td>1.000000</td>\n",
       "      <td>1.000000</td>\n",
       "    </tr>\n",
       "  </tbody>\n",
       "</table>\n",
       "</div>"
      ],
      "text/plain": [
       "                                          Image_Name  HR_Score_0.9  \\\n",
       "0  valid_synthetic_digital_patient64718_study1_vi...      0.452096   \n",
       "1  valid_natural_oneplus_patient64705_study1_view...      0.857692   \n",
       "2  valid_synthetic_photographic_patient64698_stud...      0.979954   \n",
       "3  valid_synthetic_photographic_patient64585_stud...      1.000000   \n",
       "4  valid_synthetic_photographic_patient64663_stud...      0.105125   \n",
       "5  valid_synthetic_digital_patient64687_study1_vi...      1.000000   \n",
       "6  valid_synthetic_photographic_patient64599_stud...      1.000000   \n",
       "7  valid_synthetic_digital_patient64595_study1_vi...      0.992354   \n",
       "8  valid_natural_oneplus_patient64721_study1_view...      0.948454   \n",
       "9  valid_synthetic_digital_patient64600_study1_vi...      1.000000   \n",
       "\n",
       "   LR_Score_0.9  \n",
       "0      0.502786  \n",
       "1      0.000000  \n",
       "2      0.981116  \n",
       "3      1.000000  \n",
       "4      0.122166  \n",
       "5      1.000000  \n",
       "6      1.000000  \n",
       "7      0.992827  \n",
       "8      0.948864  \n",
       "9      1.000000  "
      ]
     },
     "execution_count": 5,
     "metadata": {},
     "output_type": "execute_result"
    }
   ],
   "source": [
    "df"
   ]
  },
  {
   "cell_type": "code",
   "execution_count": null,
   "metadata": {},
   "outputs": [],
   "source": []
  }
 ],
 "metadata": {
  "kernelspec": {
   "display_name": "sahil",
   "language": "python",
   "name": "python3"
  },
  "language_info": {
   "codemirror_mode": {
    "name": "ipython",
    "version": 3
   },
   "file_extension": ".py",
   "mimetype": "text/x-python",
   "name": "python",
   "nbconvert_exporter": "python",
   "pygments_lexer": "ipython3",
   "version": "3.1.-1"
  }
 },
 "nbformat": 4,
 "nbformat_minor": 2
}
