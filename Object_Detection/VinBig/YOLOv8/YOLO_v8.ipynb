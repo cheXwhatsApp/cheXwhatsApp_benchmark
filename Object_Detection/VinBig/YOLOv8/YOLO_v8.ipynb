{
 "cells": [
  {
   "cell_type": "code",
   "execution_count": 1,
   "metadata": {},
   "outputs": [],
   "source": [
    "from ultralytics import YOLO\n",
    "import ultralytics\n",
    "import matplotlib.pyplot as plt\n",
    "import matplotlib.patches as patches\n",
    "import cv2\n",
    "import numpy as np"
   ]
  },
  {
   "cell_type": "code",
   "execution_count": 2,
   "metadata": {},
   "outputs": [],
   "source": [
    "# Load a model\n",
    "model = YOLO(\"yolov8s.yaml\")  # build a new model from scratch\n",
    "model = YOLO(\"yolov8s.pt\")  # load a pretrained model (recommended for training)"
   ]
  },
  {
   "cell_type": "code",
   "execution_count": null,
   "metadata": {},
   "outputs": [],
   "source": [
    "# Use the model\n",
    "model.train(data=\"vinbig.yaml\",epochs=50)  # train the model"
   ]
  },
  {
   "cell_type": "code",
   "execution_count": null,
   "metadata": {},
   "outputs": [],
   "source": [
    "metrics = model.val(save_json=True, save_hybrid=True)"
   ]
  },
  {
   "cell_type": "code",
   "execution_count": null,
   "metadata": {},
   "outputs": [],
   "source": [
    "results = model(\"../path/to/example.png\")  # predict on an image"
   ]
  },
  {
   "cell_type": "code",
   "execution_count": null,
   "metadata": {},
   "outputs": [],
   "source": [
    "# Extract bounding boxes, classes, names, and confidences\n",
    "boxes = results[0].boxes.xyxy.tolist()\n",
    "classes = results[0].boxes.cls.tolist()\n",
    "names = results[0].names\n",
    "confidences = results[0].boxes.conf.tolist()\n",
    "\n",
    "# Iterate through the results\n",
    "for box, cls, conf in zip(boxes, classes, confidences):\n",
    "    x1, y1, x2, y2 = box\n",
    "    confidence = conf\n",
    "    detected_class = cls\n",
    "    name = names[int(cls)]"
   ]
  },
  {
   "cell_type": "code",
   "execution_count": null,
   "metadata": {},
   "outputs": [],
   "source": [
    "boxes, names, classes, confidences"
   ]
  },
  {
   "cell_type": "code",
   "execution_count": 10,
   "metadata": {},
   "outputs": [],
   "source": [
    "# Function to draw rectangles (bounding boxes)\n",
    "def draw_rectangles(ground_truth, predictions):\n",
    "    # Create figure and axes\n",
    "    fig, ax = plt.subplots()\n",
    "\n",
    "    # Set the axes limits\n",
    "    ax.set_xlim([0, 1])\n",
    "    ax.set_ylim([0, 1])\n",
    "\n",
    "    # Draw ground truth rectangles in green\n",
    "    for gt in ground_truth:\n",
    "        class_id, x_center, y_center, width, height = gt\n",
    "        rect = patches.Rectangle((x_center - width/2, y_center - height/2), width, height,\n",
    "                                 linewidth=2, edgecolor='g', facecolor='none', label='Ground Truth')\n",
    "        ax.add_patch(rect)\n",
    "\n",
    "    # Draw predicted rectangles in red\n",
    "    for pred in predictions:\n",
    "        class_id, x_center, y_center, width, height = pred\n",
    "        rect = patches.Rectangle((x_center - width/2, y_center - height/2), width, height,\n",
    "                                 linewidth=2, edgecolor='r', facecolor='none', label='Prediction')\n",
    "        ax.add_patch(rect)\n",
    "\n",
    "    # Add a legend\n",
    "    handles, labels = ax.get_legend_handles_labels()\n",
    "    by_label = dict(zip(labels, handles))\n",
    "    ax.legend(by_label.values(), by_label.keys())\n",
    "\n",
    "    # Display the plot\n",
    "    plt.show()"
   ]
  },
  {
   "cell_type": "code",
   "execution_count": 14,
   "metadata": {},
   "outputs": [],
   "source": [
    "# Example usage (Assuing image shape 1024x1024)\n",
    "predicted_boxes = [[1, 145.42726135253906/1024, 395.8778991699219/1024, 317.4457092285156/1024, 524.496826171875/1024]]  # Replace with your ground truth boxes\n",
    "ground_truth_boxes = [[1, 0.6302439024390244, 0.45365853658536587, 0.1951219512195122, 0.16390243902439025]]     # Replace with your predicted boxes"
   ]
  },
  {
   "cell_type": "code",
   "execution_count": 15,
   "metadata": {},
   "outputs": [
    {
     "data": {
      "image/png": "[encoded data removed]",
      "text/plain": [
       "<Figure size 640x480 with 1 Axes>"
      ]
     },
     "metadata": {},
     "output_type": "display_data"
    }
   ],
   "source": [
    "draw_rectangles(ground_truth_boxes, predicted_boxes)\n"
   ]
  }
 ],
 "metadata": {
  "kernelspec": {
   "display_name": "sahil",
   "language": "python",
   "name": "python3"
  },
  "language_info": {
   "codemirror_mode": {
    "name": "ipython",
    "version": 3
   },
   "file_extension": ".py",
   "mimetype": "text/x-python",
   "name": "python",
   "nbconvert_exporter": "python",
   "pygments_lexer": "ipython3",
   "version": "3.12.3"
  }
 },
 "nbformat": 4,
 "nbformat_minor": 2
}
